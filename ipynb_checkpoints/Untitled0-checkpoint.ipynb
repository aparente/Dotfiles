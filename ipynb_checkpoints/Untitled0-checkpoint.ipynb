{
 "metadata": {
  "name": "",
  "signature": "sha256:07a3c32e9d7bd240ddd383158dab2b8bec455fac457f47fed7202c7d3775759a"
 },
 "nbformat": 3,
 "nbformat_minor": 0,
 "worksheets": []
}